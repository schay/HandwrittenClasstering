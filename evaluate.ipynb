{
 "cells": [
  {
   "cell_type": "code",
   "execution_count": 1,
   "metadata": {
    "ExecuteTime": {
     "end_time": "2018-11-22T14:33:09.963065Z",
     "start_time": "2018-11-22T14:33:07.274626Z"
    }
   },
   "outputs": [
    {
     "name": "stderr",
     "output_type": "stream",
     "text": [
      "Using TensorFlow backend.\n"
     ]
    }
   ],
   "source": [
    "import math\n",
    "import struct\n",
    "\n",
    "import matplotlib.pyplot as plt\n",
    "import numpy as np\n",
    "from tensorflow.python.keras import backend as K\n",
    "from tensorflow.python.keras.layers import (Activation, Add,\n",
    "                                            BatchNormalization, Convolution2D,\n",
    "                                            Dense, Dropout, Flatten,\n",
    "                                            GlobalAveragePooling2D, Input,\n",
    "                                            Lambda, Multiply, concatenate)\n",
    "from tensorflow.python.keras.layers.pooling import MaxPooling2D\n",
    "from keras.models import Model, load_model\n",
    "from tensorflow.python.keras.optimizers import SGD, Adam, Adamax, nadam\n",
    "from tensorflow.python.keras.utils import Sequence, to_categorical\n",
    "\n",
    "from PIL import Image, ImageEnhance"
   ]
  },
  {
   "cell_type": "code",
   "execution_count": 2,
   "metadata": {
    "ExecuteTime": {
     "end_time": "2018-11-22T14:33:09.980509Z",
     "start_time": "2018-11-22T14:33:09.966823Z"
    }
   },
   "outputs": [],
   "source": [
    "class ETL9B:\n",
    "    def __init__(self, path, num, label_num, drop_records=[], seek=0):\n",
    "        self.labels = label_num\n",
    "        self.max_nums = num\n",
    "        self.image_shape = [63, 64]\n",
    "        self.filename = path\n",
    "        self.drop_records = drop_records\n",
    "        self.file = open(self.filename, 'rb')\n",
    "        self.seek = seek\n",
    "        \n",
    "    def is_dropped(self, label, num):\n",
    "        if self.drop_records:\n",
    "            for drop_record in self.drop_records:\n",
    "                if drop_record[0] == label and drop_record[1] == num:\n",
    "                    return True\n",
    "        return False\n",
    "    \n",
    "    def _read(self, skip):\n",
    "        record_size = 576\n",
    "        self.file.seek(skip * record_size)\n",
    "        s = self.file.read(record_size)\n",
    "        r = struct.unpack('>2H4s504s64x', s)\n",
    "        i1 = Image.frombytes('1', (64, 63), r[3], 'raw')\n",
    "        return np.array(i1)\n",
    "        \n",
    "    def get_chars(self):\n",
    "        images = []\n",
    "        labels = []\n",
    "        seek = self.seek\n",
    "        for num in range(self.max_nums):\n",
    "            for label in range(self.labels):\n",
    "                if not self.is_dropped(label, num):\n",
    "                    x = self._read(label + seek + self.labels*num)\n",
    "                    images.append(x)\n",
    "                    labels.append(label)\n",
    "                else:\n",
    "                    seek -= 1\n",
    "        return np.asarray(images)[..., np.newaxis], to_categorical(np.asarray(labels), self.labels)"
   ]
  },
  {
   "cell_type": "code",
   "execution_count": 5,
   "metadata": {
    "ExecuteTime": {
     "end_time": "2018-11-22T14:35:19.540709Z",
     "start_time": "2018-11-22T14:34:42.502795Z"
    }
   },
   "outputs": [],
   "source": [
    "etl9b_path = '/Users/chai/data/etlcdb/ETL9B/'\n",
    "etl9b_x = []\n",
    "etl9b_y = []\n",
    "for i in range(5):\n",
    "    x, y = ETL9B(etl9b_path + 'ETL9B_' + str(i+1), 40, 3036, seek=1).get_chars()\n",
    "    etl9b_x.extend(x)\n",
    "    etl9b_y.extend(y)\n",
    "etl9b = [np.asarray(etl9b_x), np.asarray(etl9b_y)]"
   ]
  },
  {
   "cell_type": "code",
   "execution_count": null,
   "metadata": {
    "ExecuteTime": {
     "start_time": "2018-11-28T14:31:07.972Z"
    }
   },
   "outputs": [],
   "source": [
    "etl9b[0].shape"
   ]
  },
  {
   "cell_type": "code",
   "execution_count": 7,
   "metadata": {
    "ExecuteTime": {
     "end_time": "2018-11-22T14:35:19.568133Z",
     "start_time": "2018-11-22T14:35:19.564099Z"
    }
   },
   "outputs": [],
   "source": [
    "batch_size = 30\n",
    "num_class = 3036\n",
    "split_num = 546480\n",
    "train_data = [etl9b[0][:split_num], etl9b[1][:split_num]]\n",
    "test_data = [etl9b[0][split_num:], etl9b[1][split_num:]]\n",
    "# train_data_seq = ETL_sequence(train_data, batch_size, num_class)\n",
    "# test_data_seq = ETL_sequence(test_data, batch_size, num_class)"
   ]
  },
  {
   "cell_type": "code",
   "execution_count": 8,
   "metadata": {
    "ExecuteTime": {
     "end_time": "2018-11-22T14:35:21.367748Z",
     "start_time": "2018-11-22T14:35:19.570369Z"
    },
    "scrolled": false
   },
   "outputs": [
    {
     "name": "stdout",
     "output_type": "stream",
     "text": [
      "__________________________________________________________________________________________________\n",
      "Layer (type)                    Output Shape         Param #     Connected to                     \n",
      "==================================================================================================\n",
      "input_1 (InputLayer)            (None, 63, 64, 1)    0                                            \n",
      "__________________________________________________________________________________________________\n",
      "conv2d_2 (Conv2D)               (None, 63, 64, 16)   160         input_1[0][0]                    \n",
      "__________________________________________________________________________________________________\n",
      "conv2d_3 (Conv2D)               (None, 63, 64, 64)   9280        conv2d_2[0][0]                   \n",
      "__________________________________________________________________________________________________\n",
      "global_average_pooling2d_1 (Glo (None, 64)           0           conv2d_3[0][0]                   \n",
      "__________________________________________________________________________________________________\n",
      "dense_1 (Dense)                 (None, 4)            260         global_average_pooling2d_1[0][0] \n",
      "__________________________________________________________________________________________________\n",
      "dense_2 (Dense)                 (None, 64)           320         dense_1[0][0]                    \n",
      "__________________________________________________________________________________________________\n",
      "multiply_1 (Multiply)           (None, 63, 64, 64)   0           conv2d_3[0][0]                   \n",
      "                                                                 dense_2[0][0]                    \n",
      "__________________________________________________________________________________________________\n",
      "conv2d_1 (Conv2D)               (None, 63, 64, 64)   128         input_1[0][0]                    \n",
      "__________________________________________________________________________________________________\n",
      "add_1 (Add)                     (None, 63, 64, 64)   0           multiply_1[0][0]                 \n",
      "                                                                 conv2d_1[0][0]                   \n",
      "__________________________________________________________________________________________________\n",
      "max_pooling2d_1 (MaxPooling2D)  (None, 31, 32, 64)   0           add_1[0][0]                      \n",
      "__________________________________________________________________________________________________\n",
      "dropout_1 (Dropout)             (None, 31, 32, 64)   0           max_pooling2d_1[0][0]            \n",
      "__________________________________________________________________________________________________\n",
      "conv2d_5 (Conv2D)               (None, 31, 32, 128)  73856       dropout_1[0][0]                  \n",
      "__________________________________________________________________________________________________\n",
      "conv2d_6 (Conv2D)               (None, 31, 32, 256)  295168      conv2d_5[0][0]                   \n",
      "__________________________________________________________________________________________________\n",
      "global_average_pooling2d_2 (Glo (None, 256)          0           conv2d_6[0][0]                   \n",
      "__________________________________________________________________________________________________\n",
      "dense_3 (Dense)                 (None, 16)           4112        global_average_pooling2d_2[0][0] \n",
      "__________________________________________________________________________________________________\n",
      "dense_4 (Dense)                 (None, 256)          4352        dense_3[0][0]                    \n",
      "__________________________________________________________________________________________________\n",
      "multiply_2 (Multiply)           (None, 31, 32, 256)  0           conv2d_6[0][0]                   \n",
      "                                                                 dense_4[0][0]                    \n",
      "__________________________________________________________________________________________________\n",
      "conv2d_4 (Conv2D)               (None, 31, 32, 256)  16640       max_pooling2d_1[0][0]            \n",
      "__________________________________________________________________________________________________\n",
      "add_2 (Add)                     (None, 31, 32, 256)  0           multiply_2[0][0]                 \n",
      "                                                                 conv2d_4[0][0]                   \n",
      "__________________________________________________________________________________________________\n",
      "max_pooling2d_2 (MaxPooling2D)  (None, 15, 16, 256)  0           add_2[0][0]                      \n",
      "__________________________________________________________________________________________________\n",
      "dropout_2 (Dropout)             (None, 15, 16, 256)  0           max_pooling2d_2[0][0]            \n",
      "__________________________________________________________________________________________________\n",
      "global_average_pooling2d_3 (Glo (None, 256)          0           dropout_2[0][0]                  \n",
      "__________________________________________________________________________________________________\n",
      "dense_5 (Dense)                 (None, 256)          65792       global_average_pooling2d_3[0][0] \n",
      "__________________________________________________________________________________________________\n",
      "dropout_3 (Dropout)             (None, 256)          0           dense_5[0][0]                    \n",
      "__________________________________________________________________________________________________\n",
      "dense_6 (Dense)                 (None, 3036)         780252      dropout_3[0][0]                  \n",
      "==================================================================================================\n",
      "Total params: 1,250,320\n",
      "Trainable params: 1,250,320\n",
      "Non-trainable params: 0\n",
      "__________________________________________________________________________________________________\n"
     ]
    },
    {
     "name": "stderr",
     "output_type": "stream",
     "text": [
      "/Users/chai/miniconda3/lib/python3.6/site-packages/keras/engine/saving.py:304: UserWarning: Error in loading the saved optimizer state. As a result, your model is starting with a freshly initialized optimizer.\n",
      "  warnings.warn('Error in loading the saved optimizer '\n"
     ]
    }
   ],
   "source": [
    "model = load_model('model.h5')\n",
    "model.summary()"
   ]
  },
  {
   "cell_type": "markdown",
   "metadata": {
    "ExecuteTime": {
     "end_time": "2018-11-22T14:35:48.075101Z",
     "start_time": "2018-11-22T14:35:21.371091Z"
    }
   },
   "source": [
    "model.evaluate(test_data[0], test_data[1])"
   ]
  },
  {
   "cell_type": "code",
   "execution_count": 42,
   "metadata": {
    "ExecuteTime": {
     "end_time": "2018-11-22T14:38:38.384134Z",
     "start_time": "2018-11-22T14:38:38.369312Z"
    }
   },
   "outputs": [
    {
     "name": "stdout",
     "output_type": "stream",
     "text": [
      "0.9999701\n",
      "g\n"
     ]
    }
   ],
   "source": [
    "num = 1414 + 3036*17\n",
    "label = num%3036\n",
    "pred = model.predict(test_data[0][num].reshape([1, 63, 64, 1]))\n",
    "pred_num = np.argmax(pred)\n",
    "print(pred[0, pred_num])\n",
    "if pred_num == label:\n",
    "    print('g')\n",
    "else:\n",
    "    print('b')"
   ]
  },
  {
   "cell_type": "code",
   "execution_count": 43,
   "metadata": {
    "ExecuteTime": {
     "end_time": "2018-11-22T14:38:38.826223Z",
     "start_time": "2018-11-22T14:38:38.616481Z"
    }
   },
   "outputs": [
    {
     "name": "stdout",
     "output_type": "stream",
     "text": [
      "[0. 0. 0. ... 0. 0. 0.]\n",
      "[0. 0. 0. ... 0. 0. 0.]\n"
     ]
    },
    {
     "data": {
      "image/png": "[encoded data removed]",
      "text/plain": [
       "<Figure size 432x288 with 2 Axes>"
      ]
     },
     "metadata": {
      "needs_background": "light"
     },
     "output_type": "display_data"
    }
   ],
   "source": [
    "cop = [test_data[0][num], train_data[0][pred_num]]\n",
    "cop = np.squeeze(cop)\n",
    "print(test_data[1][num])\n",
    "print(train_data[1][num])\n",
    "for i in range(2):\n",
    "    im = cop[i]\n",
    "    \n",
    "    num = 330 + i + 1\n",
    "    plt.subplot(1, 2, i + 1)\n",
    "    plt.gray()\n",
    "    plt.imshow(im)\n",
    "plt.show()"
   ]
  },
  {
   "cell_type": "code",
   "execution_count": null,
   "metadata": {},
   "outputs": [],
   "source": []
  }
 ],
 "metadata": {
  "kernelspec": {
   "display_name": "Python 3",
   "language": "python",
   "name": "python3"
  },
  "language_info": {
   "codemirror_mode": {
    "name": "ipython",
    "version": 3
   },
   "file_extension": ".py",
   "mimetype": "text/x-python",
   "name": "python",
   "nbconvert_exporter": "python",
   "pygments_lexer": "ipython3",
   "version": "3.6.6"
  },
  "toc": {
   "base_numbering": 1,
   "nav_menu": {},
   "number_sections": true,
   "sideBar": true,
   "skip_h1_title": false,
   "title_cell": "Table of Contents",
   "title_sidebar": "Contents",
   "toc_cell": false,
   "toc_position": {},
   "toc_section_display": true,
   "toc_window_display": false
  }
 },
 "nbformat": 4,
 "nbformat_minor": 2
}
